{
  "nbformat": 4,
  "nbformat_minor": 0,
  "metadata": {
    "colab": {
      "provenance": [],
      "authorship_tag": "ABX9TyNmrUu9IrPsi/ICG41BcbZ8",
      "include_colab_link": true
    },
    "kernelspec": {
      "name": "python3",
      "display_name": "Python 3"
    },
    "language_info": {
      "name": "python"
    }
  },
  "cells": [
    {
      "cell_type": "markdown",
      "metadata": {
        "id": "view-in-github",
        "colab_type": "text"
      },
      "source": [
        "<a href=\"https://colab.research.google.com/github/ARU-Bioinf-STP-2021/STP_material/blob/master/NGS-pipeline-in-a-notebook.ipynb\" target=\"_parent\"><img src=\"https://colab.research.google.com/assets/colab-badge.svg\" alt=\"Open In Colab\"/></a>"
      ]
    },
    {
      "cell_type": "markdown",
      "source": [
        "## NGS data - from initial QC to a ready to analyse variant set"
      ],
      "metadata": {
        "id": "EXgpRA5_tOYL"
      }
    },
    {
      "cell_type": "markdown",
      "metadata": {
        "id": "hK3xk9kqIDCt"
      },
      "source": [
        "When you start a colab session you are starting a new virtual machine. If we want to use notebooks for reproducbile research we need to be able to set up all the programs and import all the data we need for our analysis each time we begin. This might seem like a lot of work - but it is worth doing. Why? Because it makes our research reproducible. There are a couple of things we can do"
      ]
    },
    {
      "cell_type": "code",
      "metadata": {
        "cellView": "form",
        "id": "t8oVhrJBG2YD"
      },
      "source": [
        "#@title Set up conda on notebook\n",
        "%%capture\n",
        "! wget https://repo.anaconda.com/miniconda/Miniconda3-py37_4.8.2-Linux-x86_64.sh \n",
        "! chmod +x Miniconda3-py37_4.8.2-Linux-x86_64.sh \n",
        "! bash ./Miniconda3-py37_4.8.2-Linux-x86_64.sh -b -f -p /usr/local \n",
        "import sys \n",
        "sys.path.append('/usr/local/lib/python3.7/site-packages/')\n"
      ],
      "execution_count": 1,
      "outputs": []
    },
    {
      "cell_type": "code",
      "metadata": {
        "id": "HtIjSuZlFbyZ"
      },
      "source": [
        "#@title Install the programs you need\n",
        "%%capture\n",
        "# FastQC is a program designed to spot potential problems in high throughput sequencing datasets. \n",
        "!conda install -c bioconda fastqc -y\n",
        "# Multiqc can aggregate and summarize all the QC data and alignment log data in one file \n",
        "!pip install multiqc\n",
        "# Trimmomatic: A flexible read trimming tool for Illumina NGS data \n",
        "! conda install -c bioconda trimmomatic -y\n",
        "! conda install -c bioconda cutadapt -y\n"
      ],
      "execution_count": 2,
      "outputs": []
    },
    {
      "cell_type": "code",
      "metadata": {
        "id": "HCnOpYdjGNza",
        "colab": {
          "base_uri": "https://localhost:8080/"
        },
        "outputId": "c3282193-961b-4079-d2a0-176a761d4b61"
      },
      "source": [
        "# get the link to the files needed \n",
        "!curl -L https://www.dropbox.com/s/xxfamb5b0sycbt8/Topic1_NGS_May2021.tar?dl=1 -o Topic1_NGS_May2021.tar"
      ],
      "execution_count": 3,
      "outputs": [
        {
          "output_type": "stream",
          "name": "stdout",
          "text": [
            "  % Total    % Received % Xferd  Average Speed   Time    Time     Time  Current\n",
            "                                 Dload  Upload   Total   Spent    Left  Speed\n",
            "100   129    0   129    0     0    441      0 --:--:-- --:--:-- --:--:--   443\n",
            "100   342  100   342    0     0    591      0 --:--:-- --:--:-- --:--:--   591\n",
            "100  164M  100  164M    0     0  69.5M      0  0:00:02  0:00:02 --:--:--  135M\n"
          ]
        }
      ]
    },
    {
      "cell_type": "code",
      "source": [
        "# unzip the files\n",
        "! tar -xvf /content/Topic1_NGS_May2021.tar"
      ],
      "metadata": {
        "colab": {
          "base_uri": "https://localhost:8080/"
        },
        "id": "8jJXkxw2tHDi",
        "outputId": "ebee5eec-361b-4dee-ba98-565e3b9440eb"
      },
      "execution_count": 4,
      "outputs": [
        {
          "output_type": "stream",
          "name": "stdout",
          "text": [
            "VariantCalling/\n",
            "VariantCalling/lane1/\n",
            "VariantCalling/lane1/._s-7-1.fastq\n",
            "VariantCalling/lane1/._s-7-2.fastq\n",
            "VariantCalling/lane1/s-7-1.fastq\n",
            "VariantCalling/lane1/s-7-2.fastq\n",
            "VariantCalling/primers_adapters.fa\n",
            "VariantCalling/lane2/\n",
            "VariantCalling/lane2/._s-7-1.fastq\n",
            "VariantCalling/lane2/._s-7-2.fastq\n",
            "VariantCalling/lane2/s-7-1.fastq\n",
            "VariantCalling/lane2/s-7-2.fastq\n",
            "VariantCalling/mito.intervals\n",
            "VariantCalling/Saccharomyces_cerevisiae.EF4.68.dna.toplevel.fa\n"
          ]
        }
      ]
    },
    {
      "cell_type": "code",
      "metadata": {
        "id": "QNjDXByPGR9i"
      },
      "source": [
        "# enter the practical code in the notebook!"
      ],
      "execution_count": null,
      "outputs": []
    }
  ]
}